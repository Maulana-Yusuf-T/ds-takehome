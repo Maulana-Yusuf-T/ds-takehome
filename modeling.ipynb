{
 "cells": [
  {
   "cell_type": "markdown",
   "id": "2efbc7e1",
   "metadata": {},
   "source": [
    "# **I. Introduction**"
   ]
  },
  {
   "cell_type": "markdown",
   "id": "f006db71",
   "metadata": {},
   "source": [
    "<p>=================================================<br>\n",
    "\n",
    "**Data Scientist Technical Test in PT. Pemeringkat Efek Indonesia (PT. PEFINDO)**\n",
    "\n",
    "**Name**: Maulana Yusuf Taufiqurrahman<br>\n",
    "**From**: Hacktiv8 Full Time Data Science (FTDS) - HCK Batch 026 - Alumni\n",
    "\n",
    "<p>=================================================<br>"
   ]
  },
  {
   "cell_type": "markdown",
   "id": "fbc3a13a",
   "metadata": {},
   "source": [
    "# **II. Import Library Packages**"
   ]
  },
  {
   "cell_type": "markdown",
   "id": "130b4cca",
   "metadata": {},
   "source": [
    "The most important things to do for programming by using Python is importing the library packages, especially in this project. We need to import the packages starts from **Pandas**, **NumPy**, **Sci-Kit Learn**, **Seaborn**, and so on. If we need to import another packages, just add another packages in the **`II. Import Library Packages`** section."
   ]
  },
  {
   "cell_type": "code",
   "execution_count": 1,
   "id": "4d74f8a2",
   "metadata": {},
   "outputs": [],
   "source": [
    "# Data Analysis Packages\n",
    "import pandas as pd\n",
    "import numpy as np\n",
    "\n",
    "# Visualization Tools\n",
    "import matplotlib.pyplot as plt\n",
    "import seaborn as sns\n",
    "\n",
    "# Machine Learning Packages\n",
    "from sklearn.model_selection import train_test_split\n",
    "from sklearn.linear_model import LogisticRegression\n",
    "from sklearn.ensemble import GradientBoostingClassifier\n",
    "from sklearn.preprocessing import StandardScaler\n",
    "from sklearn.metrics import classification_report, roc_curve, roc_auc_score\n",
    "\n",
    "# SHAP Package\n",
    "import shap"
   ]
  },
  {
   "cell_type": "markdown",
   "id": "283e53d4",
   "metadata": {},
   "source": [
    "# **III. Data Loading**"
   ]
  },
  {
   "cell_type": "markdown",
   "id": "01672423",
   "metadata": {},
   "source": [
    "### **A. Load the Dataset**"
   ]
  },
  {
   "cell_type": "markdown",
   "id": "eaace6b9",
   "metadata": {},
   "source": [
    "Load the dataset is important to make sure the dataset is able to read and get to know what this data contains about it."
   ]
  },
  {
   "cell_type": "code",
   "execution_count": 2,
   "id": "21f5a90c",
   "metadata": {},
   "outputs": [
    {
     "data": {
      "text/html": [
       "<div>\n",
       "<style scoped>\n",
       "    .dataframe tbody tr th:only-of-type {\n",
       "        vertical-align: middle;\n",
       "    }\n",
       "\n",
       "    .dataframe tbody tr th {\n",
       "        vertical-align: top;\n",
       "    }\n",
       "\n",
       "    .dataframe thead th {\n",
       "        text-align: right;\n",
       "    }\n",
       "</style>\n",
       "<table border=\"1\" class=\"dataframe\">\n",
       "  <thead>\n",
       "    <tr style=\"text-align: right;\">\n",
       "      <th></th>\n",
       "      <th>application_id</th>\n",
       "      <th>age</th>\n",
       "      <th>monthly_income</th>\n",
       "      <th>loan_amount</th>\n",
       "      <th>previous_defaults</th>\n",
       "      <th>credit_score</th>\n",
       "      <th>default</th>\n",
       "      <th>leak_col_good</th>\n",
       "      <th>leak_col_subtle</th>\n",
       "    </tr>\n",
       "  </thead>\n",
       "  <tbody>\n",
       "    <tr>\n",
       "      <th>0</th>\n",
       "      <td>501000</td>\n",
       "      <td>41</td>\n",
       "      <td>13995609</td>\n",
       "      <td>5982664</td>\n",
       "      <td>0</td>\n",
       "      <td>624</td>\n",
       "      <td>0</td>\n",
       "      <td>0</td>\n",
       "      <td>-0.040</td>\n",
       "    </tr>\n",
       "    <tr>\n",
       "      <th>1</th>\n",
       "      <td>501001</td>\n",
       "      <td>58</td>\n",
       "      <td>13683833</td>\n",
       "      <td>3711198</td>\n",
       "      <td>0</td>\n",
       "      <td>809</td>\n",
       "      <td>0</td>\n",
       "      <td>0</td>\n",
       "      <td>0.001</td>\n",
       "    </tr>\n",
       "    <tr>\n",
       "      <th>2</th>\n",
       "      <td>501002</td>\n",
       "      <td>33</td>\n",
       "      <td>9417391</td>\n",
       "      <td>7172332</td>\n",
       "      <td>0</td>\n",
       "      <td>647</td>\n",
       "      <td>0</td>\n",
       "      <td>0</td>\n",
       "      <td>0.077</td>\n",
       "    </tr>\n",
       "    <tr>\n",
       "      <th>3</th>\n",
       "      <td>501003</td>\n",
       "      <td>45</td>\n",
       "      <td>6861811</td>\n",
       "      <td>8661056</td>\n",
       "      <td>0</td>\n",
       "      <td>450</td>\n",
       "      <td>0</td>\n",
       "      <td>0</td>\n",
       "      <td>0.038</td>\n",
       "    </tr>\n",
       "    <tr>\n",
       "      <th>4</th>\n",
       "      <td>501004</td>\n",
       "      <td>22</td>\n",
       "      <td>5640742</td>\n",
       "      <td>4520669</td>\n",
       "      <td>1</td>\n",
       "      <td>816</td>\n",
       "      <td>0</td>\n",
       "      <td>0</td>\n",
       "      <td>0.020</td>\n",
       "    </tr>\n",
       "    <tr>\n",
       "      <th>5</th>\n",
       "      <td>501005</td>\n",
       "      <td>22</td>\n",
       "      <td>7783669</td>\n",
       "      <td>13057356</td>\n",
       "      <td>1</td>\n",
       "      <td>642</td>\n",
       "      <td>0</td>\n",
       "      <td>0</td>\n",
       "      <td>0.004</td>\n",
       "    </tr>\n",
       "    <tr>\n",
       "      <th>6</th>\n",
       "      <td>501006</td>\n",
       "      <td>22</td>\n",
       "      <td>15252800</td>\n",
       "      <td>4009613</td>\n",
       "      <td>1</td>\n",
       "      <td>515</td>\n",
       "      <td>0</td>\n",
       "      <td>0</td>\n",
       "      <td>-0.033</td>\n",
       "    </tr>\n",
       "    <tr>\n",
       "      <th>7</th>\n",
       "      <td>501007</td>\n",
       "      <td>35</td>\n",
       "      <td>17437764</td>\n",
       "      <td>3871786</td>\n",
       "      <td>0</td>\n",
       "      <td>807</td>\n",
       "      <td>0</td>\n",
       "      <td>0</td>\n",
       "      <td>0.061</td>\n",
       "    </tr>\n",
       "    <tr>\n",
       "      <th>8</th>\n",
       "      <td>501008</td>\n",
       "      <td>35</td>\n",
       "      <td>12499029</td>\n",
       "      <td>13703265</td>\n",
       "      <td>0</td>\n",
       "      <td>636</td>\n",
       "      <td>0</td>\n",
       "      <td>0</td>\n",
       "      <td>0.083</td>\n",
       "    </tr>\n",
       "    <tr>\n",
       "      <th>9</th>\n",
       "      <td>501009</td>\n",
       "      <td>38</td>\n",
       "      <td>11650601</td>\n",
       "      <td>12664024</td>\n",
       "      <td>0</td>\n",
       "      <td>422</td>\n",
       "      <td>0</td>\n",
       "      <td>0</td>\n",
       "      <td>0.033</td>\n",
       "    </tr>\n",
       "    <tr>\n",
       "      <th>10</th>\n",
       "      <td>506990</td>\n",
       "      <td>23</td>\n",
       "      <td>18311641</td>\n",
       "      <td>7040976</td>\n",
       "      <td>0</td>\n",
       "      <td>787</td>\n",
       "      <td>0</td>\n",
       "      <td>0</td>\n",
       "      <td>-0.020</td>\n",
       "    </tr>\n",
       "    <tr>\n",
       "      <th>11</th>\n",
       "      <td>506991</td>\n",
       "      <td>50</td>\n",
       "      <td>4053205</td>\n",
       "      <td>1931867</td>\n",
       "      <td>0</td>\n",
       "      <td>414</td>\n",
       "      <td>0</td>\n",
       "      <td>0</td>\n",
       "      <td>-0.007</td>\n",
       "    </tr>\n",
       "    <tr>\n",
       "      <th>12</th>\n",
       "      <td>506992</td>\n",
       "      <td>21</td>\n",
       "      <td>16494212</td>\n",
       "      <td>6388229</td>\n",
       "      <td>0</td>\n",
       "      <td>317</td>\n",
       "      <td>0</td>\n",
       "      <td>0</td>\n",
       "      <td>-0.003</td>\n",
       "    </tr>\n",
       "    <tr>\n",
       "      <th>13</th>\n",
       "      <td>506993</td>\n",
       "      <td>25</td>\n",
       "      <td>11867602</td>\n",
       "      <td>8267195</td>\n",
       "      <td>0</td>\n",
       "      <td>584</td>\n",
       "      <td>0</td>\n",
       "      <td>0</td>\n",
       "      <td>0.027</td>\n",
       "    </tr>\n",
       "    <tr>\n",
       "      <th>14</th>\n",
       "      <td>506994</td>\n",
       "      <td>43</td>\n",
       "      <td>18025832</td>\n",
       "      <td>12711338</td>\n",
       "      <td>0</td>\n",
       "      <td>521</td>\n",
       "      <td>0</td>\n",
       "      <td>0</td>\n",
       "      <td>-0.039</td>\n",
       "    </tr>\n",
       "    <tr>\n",
       "      <th>15</th>\n",
       "      <td>506995</td>\n",
       "      <td>26</td>\n",
       "      <td>18253018</td>\n",
       "      <td>3690565</td>\n",
       "      <td>2</td>\n",
       "      <td>729</td>\n",
       "      <td>0</td>\n",
       "      <td>0</td>\n",
       "      <td>0.008</td>\n",
       "    </tr>\n",
       "    <tr>\n",
       "      <th>16</th>\n",
       "      <td>506996</td>\n",
       "      <td>40</td>\n",
       "      <td>9944385</td>\n",
       "      <td>4082038</td>\n",
       "      <td>1</td>\n",
       "      <td>477</td>\n",
       "      <td>0</td>\n",
       "      <td>0</td>\n",
       "      <td>0.017</td>\n",
       "    </tr>\n",
       "    <tr>\n",
       "      <th>17</th>\n",
       "      <td>506997</td>\n",
       "      <td>28</td>\n",
       "      <td>9048532</td>\n",
       "      <td>14760384</td>\n",
       "      <td>0</td>\n",
       "      <td>450</td>\n",
       "      <td>0</td>\n",
       "      <td>0</td>\n",
       "      <td>-0.054</td>\n",
       "    </tr>\n",
       "    <tr>\n",
       "      <th>18</th>\n",
       "      <td>506998</td>\n",
       "      <td>51</td>\n",
       "      <td>6843160</td>\n",
       "      <td>11774594</td>\n",
       "      <td>0</td>\n",
       "      <td>561</td>\n",
       "      <td>0</td>\n",
       "      <td>0</td>\n",
       "      <td>0.026</td>\n",
       "    </tr>\n",
       "    <tr>\n",
       "      <th>19</th>\n",
       "      <td>506999</td>\n",
       "      <td>35</td>\n",
       "      <td>12715733</td>\n",
       "      <td>8006387</td>\n",
       "      <td>0</td>\n",
       "      <td>774</td>\n",
       "      <td>0</td>\n",
       "      <td>0</td>\n",
       "      <td>0.008</td>\n",
       "    </tr>\n",
       "  </tbody>\n",
       "</table>\n",
       "</div>"
      ],
      "text/plain": [
       "    application_id  age  monthly_income  loan_amount  previous_defaults  \\\n",
       "0           501000   41        13995609      5982664                  0   \n",
       "1           501001   58        13683833      3711198                  0   \n",
       "2           501002   33         9417391      7172332                  0   \n",
       "3           501003   45         6861811      8661056                  0   \n",
       "4           501004   22         5640742      4520669                  1   \n",
       "5           501005   22         7783669     13057356                  1   \n",
       "6           501006   22        15252800      4009613                  1   \n",
       "7           501007   35        17437764      3871786                  0   \n",
       "8           501008   35        12499029     13703265                  0   \n",
       "9           501009   38        11650601     12664024                  0   \n",
       "10          506990   23        18311641      7040976                  0   \n",
       "11          506991   50         4053205      1931867                  0   \n",
       "12          506992   21        16494212      6388229                  0   \n",
       "13          506993   25        11867602      8267195                  0   \n",
       "14          506994   43        18025832     12711338                  0   \n",
       "15          506995   26        18253018      3690565                  2   \n",
       "16          506996   40         9944385      4082038                  1   \n",
       "17          506997   28         9048532     14760384                  0   \n",
       "18          506998   51         6843160     11774594                  0   \n",
       "19          506999   35        12715733      8006387                  0   \n",
       "\n",
       "    credit_score  default  leak_col_good  leak_col_subtle  \n",
       "0            624        0              0           -0.040  \n",
       "1            809        0              0            0.001  \n",
       "2            647        0              0            0.077  \n",
       "3            450        0              0            0.038  \n",
       "4            816        0              0            0.020  \n",
       "5            642        0              0            0.004  \n",
       "6            515        0              0           -0.033  \n",
       "7            807        0              0            0.061  \n",
       "8            636        0              0            0.083  \n",
       "9            422        0              0            0.033  \n",
       "10           787        0              0           -0.020  \n",
       "11           414        0              0           -0.007  \n",
       "12           317        0              0           -0.003  \n",
       "13           584        0              0            0.027  \n",
       "14           521        0              0           -0.039  \n",
       "15           729        0              0            0.008  \n",
       "16           477        0              0            0.017  \n",
       "17           450        0              0           -0.054  \n",
       "18           561        0              0            0.026  \n",
       "19           774        0              0            0.008  "
      ]
     },
     "execution_count": 2,
     "metadata": {},
     "output_type": "execute_result"
    }
   ],
   "source": [
    "# Read the csv file\n",
    "df_org = pd.read_csv('./data/credit_scoring.csv')\n",
    "\n",
    "# Create a copy\n",
    "df_copy = df_org.copy()\n",
    "\n",
    "# Combining into a dataframe\n",
    "combined_df_copy = pd.concat([df_copy.iloc[:10], df_copy.iloc[-10:]], ignore_index=True)\n",
    "\n",
    "# Show the dataset\n",
    "combined_df_copy"
   ]
  },
  {
   "cell_type": "markdown",
   "id": "b12a3321",
   "metadata": {},
   "source": [
    "The dataset is successfully been loaded. In this case, it shows only **20 data** to make sure the data is showed. The further information about the data will be explain more."
   ]
  },
  {
   "cell_type": "markdown",
   "id": "75952e52",
   "metadata": {},
   "source": [
    "### **B. Summary of the Dataset**"
   ]
  },
  {
   "cell_type": "markdown",
   "id": "5229880b",
   "metadata": {},
   "source": [
    "By seeing the information of the dataset, we can get the insights from it such as what we want to drop a/some unecessary column/s. It is one of the actions that must be taken to analyze data."
   ]
  },
  {
   "cell_type": "code",
   "execution_count": 3,
   "id": "5ac537e8",
   "metadata": {},
   "outputs": [
    {
     "name": "stdout",
     "output_type": "stream",
     "text": [
      "<class 'pandas.core.frame.DataFrame'>\n",
      "RangeIndex: 6000 entries, 0 to 5999\n",
      "Data columns (total 9 columns):\n",
      " #   Column             Non-Null Count  Dtype  \n",
      "---  ------             --------------  -----  \n",
      " 0   application_id     6000 non-null   int64  \n",
      " 1   age                6000 non-null   int64  \n",
      " 2   monthly_income     6000 non-null   int64  \n",
      " 3   loan_amount        6000 non-null   int64  \n",
      " 4   previous_defaults  6000 non-null   int64  \n",
      " 5   credit_score       6000 non-null   int64  \n",
      " 6   default            6000 non-null   int64  \n",
      " 7   leak_col_good      6000 non-null   int64  \n",
      " 8   leak_col_subtle    6000 non-null   float64\n",
      "dtypes: float64(1), int64(8)\n",
      "memory usage: 422.0 KB\n"
     ]
    }
   ],
   "source": [
    "# Show the information of the dataset\n",
    "df_copy.info()"
   ]
  },
  {
   "cell_type": "markdown",
   "id": "9138e464",
   "metadata": {},
   "source": [
    "**`Summary of the dataset`**:\n",
    "- **9** column names.\n",
    "- **6000** values with **NO** missing values.\n",
    "- **2** types of data: **float** and **int**.<p>\n",
    "\n",
    "From this information, we can know which one is for the **Target** and to be **Split**."
   ]
  },
  {
   "cell_type": "markdown",
   "id": "ee4e96a4",
   "metadata": {},
   "source": [
    "### **C. Check the Missing Values**"
   ]
  },
  {
   "cell_type": "code",
   "execution_count": 6,
   "id": "98a75c27",
   "metadata": {},
   "outputs": [
    {
     "data": {
      "text/plain": [
       "application_id       0\n",
       "age                  0\n",
       "monthly_income       0\n",
       "loan_amount          0\n",
       "previous_defaults    0\n",
       "credit_score         0\n",
       "default              0\n",
       "leak_col_good        0\n",
       "leak_col_subtle      0\n",
       "dtype: int64"
      ]
     },
     "execution_count": 6,
     "metadata": {},
     "output_type": "execute_result"
    }
   ],
   "source": [
    "# Check the missing values\n",
    "df_copy.isnull().sum()"
   ]
  },
  {
   "cell_type": "markdown",
   "id": "fae2555a",
   "metadata": {},
   "source": [
    "### **D. Check the Duplicates**"
   ]
  },
  {
   "cell_type": "code",
   "execution_count": 7,
   "id": "774b3f67",
   "metadata": {},
   "outputs": [
    {
     "data": {
      "text/plain": [
       "0"
      ]
     },
     "execution_count": 7,
     "metadata": {},
     "output_type": "execute_result"
    }
   ],
   "source": [
    "# Check the missing values\n",
    "df_copy.duplicated().sum()"
   ]
  },
  {
   "cell_type": "markdown",
   "id": "18e07895",
   "metadata": {},
   "source": [
    "### **E. Check the Cardinality**"
   ]
  },
  {
   "cell_type": "code",
   "execution_count": 8,
   "id": "851cb168",
   "metadata": {},
   "outputs": [
    {
     "data": {
      "text/plain": [
       "application_id       6000\n",
       "age                    39\n",
       "monthly_income       6000\n",
       "loan_amount          6000\n",
       "previous_defaults       4\n",
       "credit_score          550\n",
       "default                 2\n",
       "leak_col_good           2\n",
       "leak_col_subtle       239\n",
       "dtype: int64"
      ]
     },
     "execution_count": 8,
     "metadata": {},
     "output_type": "execute_result"
    }
   ],
   "source": [
    "# Check the cardinality\n",
    "df_copy.nunique()"
   ]
  },
  {
   "cell_type": "markdown",
   "id": "e07232fe",
   "metadata": {},
   "source": [
    "### **F. Check the Skewness**"
   ]
  },
  {
   "cell_type": "code",
   "execution_count": 9,
   "id": "cd522c8d",
   "metadata": {},
   "outputs": [
    {
     "name": "stdout",
     "output_type": "stream",
     "text": [
      "                   Skewness        Interpretation\n",
      "application_id     0.000000  Approximately Normal\n",
      "age               -0.050049  Approximately Normal\n",
      "monthly_income     0.018512  Approximately Normal\n",
      "loan_amount        0.000769  Approximately Normal\n",
      "previous_defaults  1.874568          Right Skewed\n",
      "credit_score      -0.017558  Approximately Normal\n",
      "default            8.901894          Right Skewed\n",
      "leak_col_good      8.901894          Right Skewed\n",
      "leak_col_subtle    7.981180          Right Skewed\n"
     ]
    }
   ],
   "source": [
    "# Take numerical columns only\n",
    "numerical_cols = df_copy.select_dtypes(include = [np.number]).columns\n",
    "\n",
    "# Count the skewness\n",
    "skewness = df_copy[numerical_cols].skew()\n",
    "\n",
    "# Create a def function\n",
    "def interpret_skew(val):\n",
    "    if val > 0.5:\n",
    "        return 'Right Skewed'\n",
    "    elif val < -0.5:\n",
    "        return 'Left Skewed'\n",
    "    else:\n",
    "        return 'Approximately Normal'\n",
    "\n",
    "# Create a dataframe\n",
    "skewness_df = pd.DataFrame({\n",
    "    'Skewness': skewness,\n",
    "    'Interpretation': skewness.apply(interpret_skew)\n",
    "})\n",
    "\n",
    "# Show the output\n",
    "print(skewness_df)"
   ]
  },
  {
   "cell_type": "markdown",
   "id": "4ef7a967",
   "metadata": {},
   "source": [
    "Most of the numerical columns are **approximately normal**. The rest of them are 4 columns having High Skewed (tends to the right).<p>\n",
    "But, the **`leak_col_good`** and **`leak_col_subtle`** will be dropped and **`default`** will be the **target**, so there will be only **one** column that High Skewed, which is **`previous_default`** by treat as category."
   ]
  },
  {
   "cell_type": "markdown",
   "id": "f990735b",
   "metadata": {},
   "source": [
    "### **G. Drop the unrelated columns**"
   ]
  },
  {
   "cell_type": "markdown",
   "id": "5f674f6d",
   "metadata": {},
   "source": [
    "# **IV. Exploratory Data Analysis (EDA)**"
   ]
  }
 ],
 "metadata": {
  "kernelspec": {
   "display_name": "base",
   "language": "python",
   "name": "python3"
  },
  "language_info": {
   "codemirror_mode": {
    "name": "ipython",
    "version": 3
   },
   "file_extension": ".py",
   "mimetype": "text/x-python",
   "name": "python",
   "nbconvert_exporter": "python",
   "pygments_lexer": "ipython3",
   "version": "3.12.7"
  }
 },
 "nbformat": 4,
 "nbformat_minor": 5
}
